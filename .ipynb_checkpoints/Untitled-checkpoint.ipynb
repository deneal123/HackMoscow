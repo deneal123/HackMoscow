{
 "cells": [
  {
   "cell_type": "code",
   "execution_count": 1,
   "id": "e139759e",
   "metadata": {},
   "outputs": [],
   "source": [
    "import pandas as pd\n",
    "import numpy as np\n",
    "from sklearn.preprocessing import MinMaxScaler\n",
    "import matplotlib.pyplot as plt\n",
    "from tensorflow.keras.models import Sequential\n",
    "from tensorflow.keras.layers import LSTM, Dense\n",
    "import matplotlib.pyplot as plt\n",
    "import seaborn as sns\n",
    "from sklearn import preprocessing\n",
    "from sklearn.preprocessing import StandardScaler\n",
    "from sklearn.model_selection import train_test_split\n",
    "from sklearn.preprocessing import LabelEncoder\n",
    "scaler = MinMaxScaler()\n",
    "# Подавление предупреждений.\n",
    "import warnings\n",
    "warnings.filterwarnings('ignore')"
   ]
  },
  {
   "cell_type": "code",
   "execution_count": 2,
   "id": "79137a23",
   "metadata": {},
   "outputs": [],
   "source": [
    "# Читаем данные.\n",
    "df = pd.read_csv(\"C:/Users/NightMare/Desktop/YandexHack/DATA_well_done/combined_data_welldone.csv\")"
   ]
  },
  {
   "cell_type": "code",
   "execution_count": 3,
   "id": "97f729c5",
   "metadata": {},
   "outputs": [
    {
     "data": {
      "text/html": [
       "<div>\n",
       "<style scoped>\n",
       "    .dataframe tbody tr th:only-of-type {\n",
       "        vertical-align: middle;\n",
       "    }\n",
       "\n",
       "    .dataframe tbody tr th {\n",
       "        vertical-align: top;\n",
       "    }\n",
       "\n",
       "    .dataframe thead th {\n",
       "        text-align: right;\n",
       "    }\n",
       "</style>\n",
       "<table border=\"1\" class=\"dataframe\">\n",
       "  <thead>\n",
       "    <tr style=\"text-align: right;\">\n",
       "      <th></th>\n",
       "      <th>Направление расходов</th>\n",
       "      <th>Наименование вида расходов</th>\n",
       "      <th>Год проведения</th>\n",
       "      <th>Месяц проведения</th>\n",
       "      <th>Конечный остаток</th>\n",
       "    </tr>\n",
       "  </thead>\n",
       "  <tbody>\n",
       "    <tr>\n",
       "      <th>0</th>\n",
       "      <td>БогданаХмельницкого,52/2</td>\n",
       "      <td>ВО</td>\n",
       "      <td>2020</td>\n",
       "      <td>1</td>\n",
       "      <td>4.55</td>\n",
       "    </tr>\n",
       "    <tr>\n",
       "      <th>1</th>\n",
       "      <td>БогданаХмельницкого,52/2</td>\n",
       "      <td>ВО</td>\n",
       "      <td>2020</td>\n",
       "      <td>2</td>\n",
       "      <td>5.35</td>\n",
       "    </tr>\n",
       "    <tr>\n",
       "      <th>2</th>\n",
       "      <td>БогданаХмельницкого,52/2</td>\n",
       "      <td>ВО</td>\n",
       "      <td>2020</td>\n",
       "      <td>3</td>\n",
       "      <td>3.74</td>\n",
       "    </tr>\n",
       "    <tr>\n",
       "      <th>3</th>\n",
       "      <td>БогданаХмельницкого,52/2</td>\n",
       "      <td>ВО</td>\n",
       "      <td>2020</td>\n",
       "      <td>4</td>\n",
       "      <td>4.28</td>\n",
       "    </tr>\n",
       "    <tr>\n",
       "      <th>4</th>\n",
       "      <td>БогданаХмельницкого,52/2</td>\n",
       "      <td>ВО</td>\n",
       "      <td>2020</td>\n",
       "      <td>5</td>\n",
       "      <td>4.28</td>\n",
       "    </tr>\n",
       "  </tbody>\n",
       "</table>\n",
       "</div>"
      ],
      "text/plain": [
       "       Направление расходов Наименование вида расходов  Год проведения  \\\n",
       "0  БогданаХмельницкого,52/2                         ВО            2020   \n",
       "1  БогданаХмельницкого,52/2                         ВО            2020   \n",
       "2  БогданаХмельницкого,52/2                         ВО            2020   \n",
       "3  БогданаХмельницкого,52/2                         ВО            2020   \n",
       "4  БогданаХмельницкого,52/2                         ВО            2020   \n",
       "\n",
       "   Месяц проведения  Конечный остаток  \n",
       "0                 1              4.55  \n",
       "1                 2              5.35  \n",
       "2                 3              3.74  \n",
       "3                 4              4.28  \n",
       "4                 5              4.28  "
      ]
     },
     "execution_count": 3,
     "metadata": {},
     "output_type": "execute_result"
    }
   ],
   "source": [
    "df.head()"
   ]
  },
  {
   "cell_type": "code",
   "execution_count": 4,
   "id": "7d43709a",
   "metadata": {},
   "outputs": [],
   "source": [
    "bn = LabelEncoder()"
   ]
  },
  {
   "cell_type": "code",
   "execution_count": 5,
   "id": "2c8f8713",
   "metadata": {},
   "outputs": [],
   "source": [
    "# Нормализация данных.\n",
    "for i in ['Месяц проведения', 'Год проведения']:\n",
    "    df[i] = scaler.fit_transform(df[[i]])"
   ]
  },
  {
   "cell_type": "code",
   "execution_count": 6,
   "id": "3fcfe300",
   "metadata": {},
   "outputs": [
    {
     "data": {
      "text/html": [
       "<div>\n",
       "<style scoped>\n",
       "    .dataframe tbody tr th:only-of-type {\n",
       "        vertical-align: middle;\n",
       "    }\n",
       "\n",
       "    .dataframe tbody tr th {\n",
       "        vertical-align: top;\n",
       "    }\n",
       "\n",
       "    .dataframe thead th {\n",
       "        text-align: right;\n",
       "    }\n",
       "</style>\n",
       "<table border=\"1\" class=\"dataframe\">\n",
       "  <thead>\n",
       "    <tr style=\"text-align: right;\">\n",
       "      <th></th>\n",
       "      <th>Направление расходов</th>\n",
       "      <th>Наименование вида расходов</th>\n",
       "      <th>Год проведения</th>\n",
       "      <th>Месяц проведения</th>\n",
       "      <th>Конечный остаток</th>\n",
       "    </tr>\n",
       "  </thead>\n",
       "  <tbody>\n",
       "    <tr>\n",
       "      <th>0</th>\n",
       "      <td>БогданаХмельницкого,52/2</td>\n",
       "      <td>ВО</td>\n",
       "      <td>0.0</td>\n",
       "      <td>0.000000</td>\n",
       "      <td>4.55</td>\n",
       "    </tr>\n",
       "    <tr>\n",
       "      <th>1</th>\n",
       "      <td>БогданаХмельницкого,52/2</td>\n",
       "      <td>ВО</td>\n",
       "      <td>0.0</td>\n",
       "      <td>0.090909</td>\n",
       "      <td>5.35</td>\n",
       "    </tr>\n",
       "    <tr>\n",
       "      <th>2</th>\n",
       "      <td>БогданаХмельницкого,52/2</td>\n",
       "      <td>ВО</td>\n",
       "      <td>0.0</td>\n",
       "      <td>0.181818</td>\n",
       "      <td>3.74</td>\n",
       "    </tr>\n",
       "    <tr>\n",
       "      <th>3</th>\n",
       "      <td>БогданаХмельницкого,52/2</td>\n",
       "      <td>ВО</td>\n",
       "      <td>0.0</td>\n",
       "      <td>0.272727</td>\n",
       "      <td>4.28</td>\n",
       "    </tr>\n",
       "    <tr>\n",
       "      <th>4</th>\n",
       "      <td>БогданаХмельницкого,52/2</td>\n",
       "      <td>ВО</td>\n",
       "      <td>0.0</td>\n",
       "      <td>0.363636</td>\n",
       "      <td>4.28</td>\n",
       "    </tr>\n",
       "  </tbody>\n",
       "</table>\n",
       "</div>"
      ],
      "text/plain": [
       "       Направление расходов Наименование вида расходов  Год проведения  \\\n",
       "0  БогданаХмельницкого,52/2                         ВО             0.0   \n",
       "1  БогданаХмельницкого,52/2                         ВО             0.0   \n",
       "2  БогданаХмельницкого,52/2                         ВО             0.0   \n",
       "3  БогданаХмельницкого,52/2                         ВО             0.0   \n",
       "4  БогданаХмельницкого,52/2                         ВО             0.0   \n",
       "\n",
       "   Месяц проведения  Конечный остаток  \n",
       "0          0.000000              4.55  \n",
       "1          0.090909              5.35  \n",
       "2          0.181818              3.74  \n",
       "3          0.272727              4.28  \n",
       "4          0.363636              4.28  "
      ]
     },
     "execution_count": 6,
     "metadata": {},
     "output_type": "execute_result"
    }
   ],
   "source": [
    "df.head()"
   ]
  },
  {
   "cell_type": "code",
   "execution_count": 7,
   "id": "92bb96ed",
   "metadata": {},
   "outputs": [
    {
     "ename": "TypeError",
     "evalue": "fit_transform() takes 2 positional arguments but 3 were given",
     "output_type": "error",
     "traceback": [
      "\u001b[1;31m---------------------------------------------------------------------------\u001b[0m",
      "\u001b[1;31mTypeError\u001b[0m                                 Traceback (most recent call last)",
      "Cell \u001b[1;32mIn[7], line 1\u001b[0m\n\u001b[1;32m----> 1\u001b[0m encoded_data \u001b[38;5;241m=\u001b[39m \u001b[43mbn\u001b[49m\u001b[38;5;241;43m.\u001b[39;49m\u001b[43mfit_transform\u001b[49m\u001b[43m(\u001b[49m\u001b[43mdf\u001b[49m\u001b[43m[\u001b[49m\u001b[38;5;124;43m'\u001b[39;49m\u001b[38;5;124;43mНаправление расходов\u001b[39;49m\u001b[38;5;124;43m'\u001b[39;49m\u001b[43m]\u001b[49m\u001b[43m,\u001b[49m\u001b[43m \u001b[49m\u001b[43mdf\u001b[49m\u001b[43m[\u001b[49m\u001b[38;5;124;43m'\u001b[39;49m\u001b[38;5;124;43mНаименование вида расходов\u001b[39;49m\u001b[38;5;124;43m'\u001b[39;49m\u001b[43m]\u001b[49m\u001b[43m)\u001b[49m\n\u001b[0;32m      3\u001b[0m \u001b[38;5;66;03m# Concatenate the binary-encoded columns to the original DataFrame\u001b[39;00m\n\u001b[0;32m      4\u001b[0m df \u001b[38;5;241m=\u001b[39m pd\u001b[38;5;241m.\u001b[39mconcat([df, pd\u001b[38;5;241m.\u001b[39mDataFrame(encoded_data, columns\u001b[38;5;241m=\u001b[39mbn\u001b[38;5;241m.\u001b[39mclasses_)], axis\u001b[38;5;241m=\u001b[39m\u001b[38;5;241m1\u001b[39m)\n",
      "File \u001b[1;32m~\\anaconda3\\envs\\envGPU\\lib\\site-packages\\sklearn\\utils\\_set_output.py:140\u001b[0m, in \u001b[0;36m_wrap_method_output.<locals>.wrapped\u001b[1;34m(self, X, *args, **kwargs)\u001b[0m\n\u001b[0;32m    138\u001b[0m \u001b[38;5;129m@wraps\u001b[39m(f)\n\u001b[0;32m    139\u001b[0m \u001b[38;5;28;01mdef\u001b[39;00m \u001b[38;5;21mwrapped\u001b[39m(\u001b[38;5;28mself\u001b[39m, X, \u001b[38;5;241m*\u001b[39margs, \u001b[38;5;241m*\u001b[39m\u001b[38;5;241m*\u001b[39mkwargs):\n\u001b[1;32m--> 140\u001b[0m     data_to_wrap \u001b[38;5;241m=\u001b[39m f(\u001b[38;5;28mself\u001b[39m, X, \u001b[38;5;241m*\u001b[39margs, \u001b[38;5;241m*\u001b[39m\u001b[38;5;241m*\u001b[39mkwargs)\n\u001b[0;32m    141\u001b[0m     \u001b[38;5;28;01mif\u001b[39;00m \u001b[38;5;28misinstance\u001b[39m(data_to_wrap, \u001b[38;5;28mtuple\u001b[39m):\n\u001b[0;32m    142\u001b[0m         \u001b[38;5;66;03m# only wrap the first output for cross decomposition\u001b[39;00m\n\u001b[0;32m    143\u001b[0m         \u001b[38;5;28;01mreturn\u001b[39;00m (\n\u001b[0;32m    144\u001b[0m             _wrap_data_with_container(method, data_to_wrap[\u001b[38;5;241m0\u001b[39m], X, \u001b[38;5;28mself\u001b[39m),\n\u001b[0;32m    145\u001b[0m             \u001b[38;5;241m*\u001b[39mdata_to_wrap[\u001b[38;5;241m1\u001b[39m:],\n\u001b[0;32m    146\u001b[0m         )\n",
      "\u001b[1;31mTypeError\u001b[0m: fit_transform() takes 2 positional arguments but 3 were given"
     ]
    }
   ],
   "source": [
    "encoded_data = bn.fit_transform(df['Направление расходов'], df['Наименование вида расходов'])\n",
    "\n",
    "# Concatenate the binary-encoded columns to the original DataFrame\n",
    "df = pd.concat([df, pd.DataFrame(encoded_data, columns=bn.classes_)], axis=1)\n",
    "\n",
    "# Drop the original categorical column if needed\n",
    "df = df.drop([df['Направление расходов'], df['Наименование вида расходов']], axis=1)"
   ]
  },
  {
   "cell_type": "code",
   "execution_count": null,
   "id": "b357f9b5",
   "metadata": {},
   "outputs": [],
   "source": [
    "df.head()"
   ]
  },
  {
   "cell_type": "code",
   "execution_count": null,
   "id": "4974b3a4",
   "metadata": {},
   "outputs": [],
   "source": [
    "# Создание временного ряда\n",
    "ts = df['Конечный остаток'].values.reshape(-1, 1)\n",
    "# Нормализация данных\n",
    "scaler = MinMaxScaler()\n",
    "ts_scaled = scaler.fit_transform(ts)\n",
    "len(df)"
   ]
  },
  {
   "cell_type": "code",
   "execution_count": null,
   "id": "f3a1c1ba",
   "metadata": {},
   "outputs": [],
   "source": [
    "def create_sequences(data, seq_length):\n",
    "    sequences, labels = [], []\n",
    "    for i in range(len(data) - seq_length):\n",
    "        seq = data[i:i + seq_length]\n",
    "        label = data[i + seq_length]\n",
    "        sequences.append(seq)\n",
    "        labels.append(label)\n",
    "    return np.array(sequences), np.array(labels)\n",
    "\n",
    "# Assuming sequence_length is 3\n",
    "sequence_length = 3\n",
    "\n",
    "# Creating sequences and labels\n",
    "sequences, labels = create_sequences(ts_scaled, sequence_length)\n",
    "\n",
    "# Splitting data into training and testing sets\n",
    "train_size = int(len(sequences) * 0.8)\n",
    "X_train, y_train = sequences[:train_size, :], labels[:train_size]\n",
    "X_test, y_test = sequences[train_size:, :], labels[train_size:, :]\n",
    "\n",
    "# Reshaping data for LSTM input\n",
    "X_train = X_train.reshape((X_train.shape[0], X_train.shape[1], 1))\n",
    "X_test = X_test.reshape((X_test.shape[0], X_test.shape[1], 1))\n"
   ]
  },
  {
   "cell_type": "code",
   "execution_count": null,
   "id": "86e1a677",
   "metadata": {},
   "outputs": [],
   "source": [
    "# Создание модели LSTM\n",
    "model = Sequential()\n",
    "model.add(LSTM(50, activation='relu', input_shape=(sequence_length-1, 1)))\n",
    "model.add(Dense(1))\n",
    "model.compile(optimizer='adam', loss='mse')"
   ]
  },
  {
   "cell_type": "code",
   "execution_count": null,
   "id": "a1970861",
   "metadata": {},
   "outputs": [],
   "source": [
    "# Обучение модели\n",
    "model.fit(X_train, y_train, epochs=50, batch_size=32, validation_data=(X_test, y_test), verbose=2)"
   ]
  },
  {
   "cell_type": "code",
   "execution_count": null,
   "id": "6d9105c1",
   "metadata": {},
   "outputs": [],
   "source": [
    "# Предсказание на тестовом наборе\n",
    "predictions = model.predict(X_test)\n",
    "\n",
    "# Инвертирование нормализации для получения фактических значений\n",
    "predictions_actual = scaler.inverse_transform(predictions)\n",
    "y_test_actual = scaler.inverse_transform(y_test.reshape(-1, 1))\n",
    "\n",
    "# Оценка качества модели\n",
    "mse = mean_squared_error(y_test_actual, predictions_actual)\n",
    "print(f'Mean Squared Error: {mse}')\n",
    "\n",
    "# Визуализация прогнозов\n",
    "plt.plot(df.index[-len(y_test_actual):], y_test_actual, label='Фактический остаток')\n",
    "plt.plot(df.index[-len(predictions_actual):], predictions_actual, color='red', label='Прогноз')\n",
    "plt.legend()\n",
    "plt.title('Прогноз с использованием LSTM')\n",
    "plt.show()"
   ]
  }
 ],
 "metadata": {
  "kernelspec": {
   "display_name": "Python 3 (ipykernel)",
   "language": "python",
   "name": "python3"
  },
  "language_info": {
   "codemirror_mode": {
    "name": "ipython",
    "version": 3
   },
   "file_extension": ".py",
   "mimetype": "text/x-python",
   "name": "python",
   "nbconvert_exporter": "python",
   "pygments_lexer": "ipython3",
   "version": "3.9.16"
  }
 },
 "nbformat": 4,
 "nbformat_minor": 5
}
