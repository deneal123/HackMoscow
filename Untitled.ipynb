{
 "cells": [
  {
   "cell_type": "code",
   "execution_count": 1,
   "id": "db599386",
   "metadata": {},
   "outputs": [],
   "source": [
    "import pandas as pd\n",
    "import numpy as np\n",
    "from sklearn.preprocessing import MinMaxScaler\n",
    "import matplotlib.pyplot as plt\n",
    "from tensorflow.keras.models import Sequential\n",
    "from tensorflow.keras.layers import LSTM, Dense\n",
    "import matplotlib.pyplot as plt\n",
    "import seaborn as sns\n",
    "from sklearn import preprocessing\n",
    "from sklearn.preprocessing import StandardScaler\n",
    "from sklearn.model_selection import train_test_split\n",
    "from sklearn.preprocessing import LabelEncoder\n",
    "from sklearn.metrics import mean_squared_error\n",
    "from statsmodels.tsa.api import ExponentialSmoothing\n",
    "scaler = MinMaxScaler()\n",
    "# Подавление предупреждений.\n",
    "import warnings\n",
    "warnings.filterwarnings('ignore')"
   ]
  },
  {
   "cell_type": "code",
   "execution_count": 2,
   "id": "69538bfa",
   "metadata": {},
   "outputs": [],
   "source": [
    "# Читаем данные.\n",
    "df = pd.read_csv(\"C:/Users/NightMare/Desktop/YandexHack/DATA_well_done/combined_data_welldone.csv\")"
   ]
  },
  {
   "cell_type": "code",
   "execution_count": 3,
   "id": "a392d684",
   "metadata": {},
   "outputs": [
    {
     "data": {
      "text/html": [
       "<div>\n",
       "<style scoped>\n",
       "    .dataframe tbody tr th:only-of-type {\n",
       "        vertical-align: middle;\n",
       "    }\n",
       "\n",
       "    .dataframe tbody tr th {\n",
       "        vertical-align: top;\n",
       "    }\n",
       "\n",
       "    .dataframe thead th {\n",
       "        text-align: right;\n",
       "    }\n",
       "</style>\n",
       "<table border=\"1\" class=\"dataframe\">\n",
       "  <thead>\n",
       "    <tr style=\"text-align: right;\">\n",
       "      <th></th>\n",
       "      <th>Направление расходов</th>\n",
       "      <th>Наименование вида расходов</th>\n",
       "      <th>Год проведения</th>\n",
       "      <th>Месяц проведения</th>\n",
       "      <th>Конечный остаток</th>\n",
       "    </tr>\n",
       "  </thead>\n",
       "  <tbody>\n",
       "    <tr>\n",
       "      <th>0</th>\n",
       "      <td>БогданаХмельницкого,52/2</td>\n",
       "      <td>ВО</td>\n",
       "      <td>2020</td>\n",
       "      <td>1</td>\n",
       "      <td>4.55</td>\n",
       "    </tr>\n",
       "    <tr>\n",
       "      <th>1</th>\n",
       "      <td>БогданаХмельницкого,52/2</td>\n",
       "      <td>ВО</td>\n",
       "      <td>2020</td>\n",
       "      <td>2</td>\n",
       "      <td>5.35</td>\n",
       "    </tr>\n",
       "    <tr>\n",
       "      <th>2</th>\n",
       "      <td>БогданаХмельницкого,52/2</td>\n",
       "      <td>ВО</td>\n",
       "      <td>2020</td>\n",
       "      <td>3</td>\n",
       "      <td>3.74</td>\n",
       "    </tr>\n",
       "    <tr>\n",
       "      <th>3</th>\n",
       "      <td>БогданаХмельницкого,52/2</td>\n",
       "      <td>ВО</td>\n",
       "      <td>2020</td>\n",
       "      <td>4</td>\n",
       "      <td>4.28</td>\n",
       "    </tr>\n",
       "    <tr>\n",
       "      <th>4</th>\n",
       "      <td>БогданаХмельницкого,52/2</td>\n",
       "      <td>ВО</td>\n",
       "      <td>2020</td>\n",
       "      <td>5</td>\n",
       "      <td>4.28</td>\n",
       "    </tr>\n",
       "  </tbody>\n",
       "</table>\n",
       "</div>"
      ],
      "text/plain": [
       "       Направление расходов Наименование вида расходов  Год проведения  \\\n",
       "0  БогданаХмельницкого,52/2                         ВО            2020   \n",
       "1  БогданаХмельницкого,52/2                         ВО            2020   \n",
       "2  БогданаХмельницкого,52/2                         ВО            2020   \n",
       "3  БогданаХмельницкого,52/2                         ВО            2020   \n",
       "4  БогданаХмельницкого,52/2                         ВО            2020   \n",
       "\n",
       "   Месяц проведения  Конечный остаток  \n",
       "0                 1              4.55  \n",
       "1                 2              5.35  \n",
       "2                 3              3.74  \n",
       "3                 4              4.28  \n",
       "4                 5              4.28  "
      ]
     },
     "execution_count": 3,
     "metadata": {},
     "output_type": "execute_result"
    }
   ],
   "source": [
    "df.head()"
   ]
  },
  {
   "cell_type": "code",
   "execution_count": 4,
   "id": "896008b1",
   "metadata": {},
   "outputs": [],
   "source": [
    "lb = LabelEncoder()"
   ]
  },
  {
   "cell_type": "code",
   "execution_count": 5,
   "id": "590048fd",
   "metadata": {},
   "outputs": [],
   "source": [
    "# Нормализация данных.\n",
    "for i in ['Конечный остаток']:\n",
    "    df[i] = scaler.fit_transform(df[[i]])"
   ]
  },
  {
   "cell_type": "code",
   "execution_count": 6,
   "id": "d4f13c8d",
   "metadata": {
    "scrolled": true
   },
   "outputs": [
    {
     "data": {
      "text/html": [
       "<div>\n",
       "<style scoped>\n",
       "    .dataframe tbody tr th:only-of-type {\n",
       "        vertical-align: middle;\n",
       "    }\n",
       "\n",
       "    .dataframe tbody tr th {\n",
       "        vertical-align: top;\n",
       "    }\n",
       "\n",
       "    .dataframe thead th {\n",
       "        text-align: right;\n",
       "    }\n",
       "</style>\n",
       "<table border=\"1\" class=\"dataframe\">\n",
       "  <thead>\n",
       "    <tr style=\"text-align: right;\">\n",
       "      <th></th>\n",
       "      <th>Направление расходов</th>\n",
       "      <th>Наименование вида расходов</th>\n",
       "      <th>Год проведения</th>\n",
       "      <th>Месяц проведения</th>\n",
       "      <th>Конечный остаток</th>\n",
       "    </tr>\n",
       "  </thead>\n",
       "  <tbody>\n",
       "    <tr>\n",
       "      <th>0</th>\n",
       "      <td>БогданаХмельницкого,52/2</td>\n",
       "      <td>ВО</td>\n",
       "      <td>2020</td>\n",
       "      <td>1</td>\n",
       "      <td>0.019568</td>\n",
       "    </tr>\n",
       "    <tr>\n",
       "      <th>1</th>\n",
       "      <td>БогданаХмельницкого,52/2</td>\n",
       "      <td>ВО</td>\n",
       "      <td>2020</td>\n",
       "      <td>2</td>\n",
       "      <td>0.019568</td>\n",
       "    </tr>\n",
       "    <tr>\n",
       "      <th>2</th>\n",
       "      <td>БогданаХмельницкого,52/2</td>\n",
       "      <td>ВО</td>\n",
       "      <td>2020</td>\n",
       "      <td>3</td>\n",
       "      <td>0.019568</td>\n",
       "    </tr>\n",
       "    <tr>\n",
       "      <th>3</th>\n",
       "      <td>БогданаХмельницкого,52/2</td>\n",
       "      <td>ВО</td>\n",
       "      <td>2020</td>\n",
       "      <td>4</td>\n",
       "      <td>0.019568</td>\n",
       "    </tr>\n",
       "    <tr>\n",
       "      <th>4</th>\n",
       "      <td>БогданаХмельницкого,52/2</td>\n",
       "      <td>ВО</td>\n",
       "      <td>2020</td>\n",
       "      <td>5</td>\n",
       "      <td>0.019568</td>\n",
       "    </tr>\n",
       "  </tbody>\n",
       "</table>\n",
       "</div>"
      ],
      "text/plain": [
       "       Направление расходов Наименование вида расходов  Год проведения  \\\n",
       "0  БогданаХмельницкого,52/2                         ВО            2020   \n",
       "1  БогданаХмельницкого,52/2                         ВО            2020   \n",
       "2  БогданаХмельницкого,52/2                         ВО            2020   \n",
       "3  БогданаХмельницкого,52/2                         ВО            2020   \n",
       "4  БогданаХмельницкого,52/2                         ВО            2020   \n",
       "\n",
       "   Месяц проведения  Конечный остаток  \n",
       "0                 1          0.019568  \n",
       "1                 2          0.019568  \n",
       "2                 3          0.019568  \n",
       "3                 4          0.019568  \n",
       "4                 5          0.019568  "
      ]
     },
     "execution_count": 6,
     "metadata": {},
     "output_type": "execute_result"
    }
   ],
   "source": [
    "df.head()"
   ]
  },
  {
   "cell_type": "code",
   "execution_count": 7,
   "id": "90887ef4",
   "metadata": {},
   "outputs": [
    {
     "name": "stdout",
     "output_type": "stream",
     "text": [
      "   Направление расходов  Наименование вида расходов  Год проведения  \\\n",
      "0                     1                           1            2020   \n",
      "1                     1                           1            2020   \n",
      "2                     1                           1            2020   \n",
      "3                     1                           1            2020   \n",
      "4                     1                           1            2020   \n",
      "\n",
      "   Месяц проведения  Конечный остаток  \n",
      "0                 1          0.019568  \n",
      "1                 2          0.019568  \n",
      "2                 3          0.019568  \n",
      "3                 4          0.019568  \n",
      "4                 5          0.019568  \n"
     ]
    }
   ],
   "source": [
    "from sklearn.preprocessing import LabelEncoder\n",
    "\n",
    "# Assuming df is your DataFrame\n",
    "df_encoded = df.copy()  # Create a copy of the DataFrame\n",
    "\n",
    "label_encoder = LabelEncoder()\n",
    "\n",
    "# Encode 'Направление расходов' and 'Наименование вида расходов'\n",
    "df_encoded['Направление расходов'] = label_encoder.fit_transform(df_encoded['Направление расходов'])\n",
    "df_encoded['Наименование вида расходов'] = label_encoder.fit_transform(df_encoded['Наименование вида расходов'])\n",
    "\n",
    "\n",
    "# Display the encoded DataFrame\n",
    "print(df_encoded.head())\n"
   ]
  },
  {
   "cell_type": "code",
   "execution_count": 8,
   "id": "1a814f96",
   "metadata": {},
   "outputs": [],
   "source": [
    "# Преобразование столбца с временем в индекс\n",
    "df['Временной индекс'] = pd.to_datetime(df['Год проведения'].astype(int)*10000 + df['Месяц проведения'].astype(int)*100 + 1, format='%Y%m%d')\n",
    "df.set_index('Временной индекс', inplace=True)\n"
   ]
  },
  {
   "cell_type": "code",
   "execution_count": 9,
   "id": "e1127b09",
   "metadata": {},
   "outputs": [],
   "source": [
    "train_size = int(len(df) * 0.8)\n",
    "train, test = df[:train_size], df[train_size:]\n"
   ]
  },
  {
   "cell_type": "code",
   "execution_count": 10,
   "id": "f4fd7da7",
   "metadata": {},
   "outputs": [
    {
     "ename": "NameError",
     "evalue": "name 'forecast' is not defined",
     "output_type": "error",
     "traceback": [
      "\u001b[1;31m---------------------------------------------------------------------------\u001b[0m",
      "\u001b[1;31mNameError\u001b[0m                                 Traceback (most recent call last)",
      "Cell \u001b[1;32mIn[10], line 4\u001b[0m\n\u001b[0;32m      2\u001b[0m result \u001b[38;5;241m=\u001b[39m model\u001b[38;5;241m.\u001b[39mfit()\n\u001b[0;32m      3\u001b[0m \u001b[38;5;28;01mfrom\u001b[39;00m \u001b[38;5;21;01mstatsmodels\u001b[39;00m\u001b[38;5;21;01m.\u001b[39;00m\u001b[38;5;21;01mtsa\u001b[39;00m\u001b[38;5;21;01m.\u001b[39;00m\u001b[38;5;21;01mapi\u001b[39;00m \u001b[38;5;28;01mimport\u001b[39;00m ExponentialSmoothing\n\u001b[1;32m----> 4\u001b[0m mse \u001b[38;5;241m=\u001b[39m mean_squared_error(test[\u001b[38;5;124m'\u001b[39m\u001b[38;5;124mКонечный остаток\u001b[39m\u001b[38;5;124m'\u001b[39m], \u001b[43mforecast\u001b[49m)\n\u001b[0;32m      5\u001b[0m \u001b[38;5;28mprint\u001b[39m(\u001b[38;5;124mf\u001b[39m\u001b[38;5;124m'\u001b[39m\u001b[38;5;124mMean Squared Error: \u001b[39m\u001b[38;5;132;01m{\u001b[39;00mmse\u001b[38;5;132;01m}\u001b[39;00m\u001b[38;5;124m'\u001b[39m)\n\u001b[0;32m      7\u001b[0m plt\u001b[38;5;241m.\u001b[39mplot(train[\u001b[38;5;124m'\u001b[39m\u001b[38;5;124mКонечный остаток\u001b[39m\u001b[38;5;124m'\u001b[39m], label\u001b[38;5;241m=\u001b[39m\u001b[38;5;124m'\u001b[39m\u001b[38;5;124mTrain\u001b[39m\u001b[38;5;124m'\u001b[39m)\n",
      "\u001b[1;31mNameError\u001b[0m: name 'forecast' is not defined"
     ]
    }
   ],
   "source": [
    "model = ExponentialSmoothing(train['Конечный остаток'], trend='add', seasonal='add', seasonal_periods=12)\n",
    "result = model.fit()\n",
    "from statsmodels.tsa.api import ExponentialSmoothing\n",
    "mse = mean_squared_error(test['Конечный остаток'], forecast)\n",
    "print(f'Mean Squared Error: {mse}')\n",
    "\n",
    "plt.plot(train['Конечный остаток'], label='Train')\n",
    "plt.plot(test['Конечный остаток'], label='Test')\n",
    "plt.plot(forecast, label='Forecast')\n",
    "plt.legend()\n",
    "plt.show()\n"
   ]
  },
  {
   "cell_type": "code",
   "execution_count": null,
   "id": "5b1ca92d",
   "metadata": {},
   "outputs": [],
   "source": []
  }
 ],
 "metadata": {
  "kernelspec": {
   "display_name": "Python 3 (ipykernel)",
   "language": "python",
   "name": "python3"
  },
  "language_info": {
   "codemirror_mode": {
    "name": "ipython",
    "version": 3
   },
   "file_extension": ".py",
   "mimetype": "text/x-python",
   "name": "python",
   "nbconvert_exporter": "python",
   "pygments_lexer": "ipython3",
   "version": "3.9.16"
  }
 },
 "nbformat": 4,
 "nbformat_minor": 5
}
